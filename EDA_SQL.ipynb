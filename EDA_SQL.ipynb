{
 "cells": [
  {
   "cell_type": "markdown",
   "metadata": {},
   "source": [
    "# Simple SQL EDA Practice"
   ]
  },
  {
   "cell_type": "code",
   "execution_count": 3,
   "metadata": {},
   "outputs": [
    {
     "name": "stdout",
     "output_type": "stream",
     "text": [
      "Collecting pyarrow\n",
      "  Downloading pyarrow-15.0.2-cp311-cp311-win_amd64.whl.metadata (3.1 kB)\n",
      "Requirement already satisfied: numpy<2,>=1.16.6 in c:\\users\\savio\\appdata\\local\\packages\\pythonsoftwarefoundation.python.3.11_qbz5n2kfra8p0\\localcache\\local-packages\\python311\\site-packages (from pyarrow) (1.25.2)\n",
      "Downloading pyarrow-15.0.2-cp311-cp311-win_amd64.whl (24.8 MB)\n",
      "   ---------------------------------------- 0.0/24.8 MB ? eta -:--:--\n",
      "   ---------------------------------------- 0.0/24.8 MB ? eta -:--:--\n",
      "   ---------------------------------------- 0.1/24.8 MB 1.1 MB/s eta 0:00:24\n",
      "    --------------------------------------- 0.4/24.8 MB 3.7 MB/s eta 0:00:07\n",
      "   -- ------------------------------------- 1.3/24.8 MB 8.3 MB/s eta 0:00:03\n",
      "   ---- ----------------------------------- 2.7/24.8 MB 12.3 MB/s eta 0:00:02\n",
      "   ------ --------------------------------- 4.0/24.8 MB 16.1 MB/s eta 0:00:02\n",
      "   --------- ------------------------------ 5.6/24.8 MB 18.1 MB/s eta 0:00:02\n",
      "   --------- ------------------------------ 5.7/24.8 MB 18.3 MB/s eta 0:00:02\n",
      "   ----------- ---------------------------- 7.4/24.8 MB 19.0 MB/s eta 0:00:01\n",
      "   -------------- ------------------------- 8.7/24.8 MB 19.2 MB/s eta 0:00:01\n",
      "   ---------------- ----------------------- 10.1/24.8 MB 20.9 MB/s eta 0:00:01\n",
      "   ----------------- ---------------------- 10.9/24.8 MB 27.3 MB/s eta 0:00:01\n",
      "   ------------------ --------------------- 11.6/24.8 MB 25.2 MB/s eta 0:00:01\n",
      "   --------------------- ------------------ 13.1/24.8 MB 25.2 MB/s eta 0:00:01\n",
      "   ----------------------- ---------------- 14.6/24.8 MB 26.2 MB/s eta 0:00:01\n",
      "   ------------------------- -------------- 16.0/24.8 MB 29.7 MB/s eta 0:00:01\n",
      "   -------------------------- ------------- 16.4/24.8 MB 26.2 MB/s eta 0:00:01\n",
      "   ---------------------------- ----------- 17.5/24.8 MB 24.2 MB/s eta 0:00:01\n",
      "   ------------------------------- -------- 19.3/24.8 MB 25.2 MB/s eta 0:00:01\n",
      "   -------------------------------- ------- 19.9/24.8 MB 23.4 MB/s eta 0:00:01\n",
      "   ---------------------------------- ----- 21.1/24.8 MB 23.4 MB/s eta 0:00:01\n",
      "   ------------------------------------ --- 22.7/24.8 MB 25.2 MB/s eta 0:00:01\n",
      "   ---------------------------------------  24.4/24.8 MB 26.2 MB/s eta 0:00:01\n",
      "   ---------------------------------------  24.8/24.8 MB 27.3 MB/s eta 0:00:01\n",
      "   ---------------------------------------- 24.8/24.8 MB 24.2 MB/s eta 0:00:00\n",
      "Installing collected packages: pyarrow\n",
      "Successfully installed pyarrow-15.0.2\n",
      "Note: you may need to restart the kernel to use updated packages.\n",
      "Collecting pandasql\n",
      "  Downloading pandasql-0.7.3.tar.gz (26 kB)\n",
      "  Installing build dependencies: started\n",
      "  Installing build dependencies: finished with status 'done'\n",
      "  Getting requirements to build wheel: started\n",
      "  Getting requirements to build wheel: finished with status 'done'\n",
      "  Installing backend dependencies: started\n",
      "  Installing backend dependencies: finished with status 'done'\n",
      "  Preparing metadata (pyproject.toml): started\n",
      "  Preparing metadata (pyproject.toml): finished with status 'done'\n",
      "Requirement already satisfied: numpy in c:\\users\\savio\\appdata\\local\\packages\\pythonsoftwarefoundation.python.3.11_qbz5n2kfra8p0\\localcache\\local-packages\\python311\\site-packages (from pandasql) (1.25.2)\n",
      "Requirement already satisfied: pandas in c:\\users\\savio\\appdata\\local\\packages\\pythonsoftwarefoundation.python.3.11_qbz5n2kfra8p0\\localcache\\local-packages\\python311\\site-packages (from pandasql) (2.2.0)\n",
      "Collecting sqlalchemy (from pandasql)\n",
      "  Downloading SQLAlchemy-2.0.28-cp311-cp311-win_amd64.whl.metadata (9.8 kB)\n",
      "Requirement already satisfied: python-dateutil>=2.8.2 in c:\\users\\savio\\appdata\\local\\packages\\pythonsoftwarefoundation.python.3.11_qbz5n2kfra8p0\\localcache\\local-packages\\python311\\site-packages (from pandas->pandasql) (2.8.2)\n",
      "Requirement already satisfied: pytz>=2020.1 in c:\\users\\savio\\appdata\\local\\packages\\pythonsoftwarefoundation.python.3.11_qbz5n2kfra8p0\\localcache\\local-packages\\python311\\site-packages (from pandas->pandasql) (2023.3.post1)\n",
      "Requirement already satisfied: tzdata>=2022.7 in c:\\users\\savio\\appdata\\local\\packages\\pythonsoftwarefoundation.python.3.11_qbz5n2kfra8p0\\localcache\\local-packages\\python311\\site-packages (from pandas->pandasql) (2023.3)\n",
      "Requirement already satisfied: typing-extensions>=4.6.0 in c:\\users\\savio\\appdata\\local\\packages\\pythonsoftwarefoundation.python.3.11_qbz5n2kfra8p0\\localcache\\local-packages\\python311\\site-packages (from sqlalchemy->pandasql) (4.9.0)\n",
      "Collecting greenlet!=0.4.17 (from sqlalchemy->pandasql)\n",
      "  Downloading greenlet-3.0.3-cp311-cp311-win_amd64.whl.metadata (3.9 kB)\n",
      "Requirement already satisfied: six>=1.5 in c:\\users\\savio\\appdata\\local\\packages\\pythonsoftwarefoundation.python.3.11_qbz5n2kfra8p0\\localcache\\local-packages\\python311\\site-packages (from python-dateutil>=2.8.2->pandas->pandasql) (1.16.0)\n",
      "Downloading SQLAlchemy-2.0.28-cp311-cp311-win_amd64.whl (2.1 MB)\n",
      "   ---------------------------------------- 0.0/2.1 MB ? eta -:--:--\n",
      "   -- ------------------------------------- 0.1/2.1 MB 2.4 MB/s eta 0:00:01\n",
      "   ------------- -------------------------- 0.7/2.1 MB 7.3 MB/s eta 0:00:01\n",
      "   ---------------------------------------  2.0/2.1 MB 14.5 MB/s eta 0:00:01\n",
      "   ---------------------------------------- 2.1/2.1 MB 13.2 MB/s eta 0:00:00\n",
      "Downloading greenlet-3.0.3-cp311-cp311-win_amd64.whl (292 kB)\n",
      "   ---------------------------------------- 0.0/292.8 kB ? eta -:--:--\n",
      "   --------------------------------------- 292.8/292.8 kB 17.7 MB/s eta 0:00:00\n",
      "Building wheels for collected packages: pandasql\n",
      "  Building wheel for pandasql (pyproject.toml): started\n",
      "  Building wheel for pandasql (pyproject.toml): finished with status 'done'\n",
      "  Created wheel for pandasql: filename=pandasql-0.7.3-py3-none-any.whl size=26801 sha256=f7dbae99535792655b6d07a2a106ab29e030f6025c24da593f32e0e0b49594df\n",
      "  Stored in directory: c:\\users\\savio\\appdata\\local\\pip\\cache\\wheels\\68\\5d\\a5\\edc271b998f909801d7956959f699b976cc9896075dc47c153\n",
      "Successfully built pandasql\n",
      "Installing collected packages: greenlet, sqlalchemy, pandasql\n",
      "Successfully installed greenlet-3.0.3 pandasql-0.7.3 sqlalchemy-2.0.28\n",
      "Note: you may need to restart the kernel to use updated packages.\n"
     ]
    }
   ],
   "source": [
    "%pip install pyarrow\n",
    "%pip install pandasql\n"
   ]
  },
  {
   "cell_type": "code",
   "execution_count": 4,
   "metadata": {},
   "outputs": [],
   "source": [
    "import pandas as pd\n",
    "from pandasql import sqldf\n",
    "\n",
    "# Load your salaries data from a CSV file into a pandas DataFrame\n",
    "salaries_df = pd.read_csv('salaries.csv')\n",
    "\n",
    "# Initialize SQL query environment\n",
    "pysqldf = lambda q: sqldf(q, globals())\n"
   ]
  },
  {
   "cell_type": "code",
   "execution_count": 5,
   "metadata": {},
   "outputs": [
    {
     "name": "stdout",
     "output_type": "stream",
     "text": [
      "Average salary by experience level:\n",
      "  experience_level  average_salary\n",
      "0               EN    91181.597858\n",
      "1               EX   193152.746898\n",
      "2               MI   125056.384032\n",
      "3               SE   163579.452422\n"
     ]
    }
   ],
   "source": [
    "# 1. Aggregate Analysis\n",
    "# Average salary by experience level\n",
    "query1 = \"\"\"\n",
    "         SELECT experience_level, AVG(salary_in_usd) AS average_salary\n",
    "         FROM salaries_df\n",
    "         GROUP BY experience_level;\n",
    "         \"\"\"\n",
    "\n",
    "# Execute query\n",
    "result1 = pysqldf(query1)\n",
    "print(\"Average salary by experience level:\")\n",
    "print(result1)\n"
   ]
  },
  {
   "cell_type": "code",
   "execution_count": 6,
   "metadata": {},
   "outputs": [
    {
     "name": "stdout",
     "output_type": "stream",
     "text": [
      "\n",
      "Average salary by job title:\n",
      "                           job_title  average_salary\n",
      "0                       AI Architect   253482.750000\n",
      "1                       AI Developer   135466.789474\n",
      "2                        AI Engineer   162821.898876\n",
      "3                 AI Product Manager   141766.666667\n",
      "4                      AI Programmer    62042.000000\n",
      "..                               ...             ...\n",
      "141               Sales Data Analyst    60000.000000\n",
      "142           Software Data Engineer   111627.666667\n",
      "143               Staff Data Analyst    79917.000000\n",
      "144             Staff Data Scientist   134500.000000\n",
      "145  Staff Machine Learning Engineer   185000.000000\n",
      "\n",
      "[146 rows x 2 columns]\n"
     ]
    }
   ],
   "source": [
    "# 2. Average salary by job title\n",
    "query2 = \"\"\"\n",
    "         SELECT job_title, AVG(salary_in_usd) AS average_salary\n",
    "         FROM salaries_df\n",
    "         GROUP BY job_title;\n",
    "         \"\"\"\n",
    "result2 = pysqldf(query2)\n",
    "print(\"\\nAverage salary by job title:\")\n",
    "print(result2)"
   ]
  },
  {
   "cell_type": "code",
   "execution_count": 7,
   "metadata": {},
   "outputs": [
    {
     "name": "stdout",
     "output_type": "stream",
     "text": [
      "\n",
      "Average salary by company size:\n",
      "  company_size  average_salary\n",
      "0            L   139295.005192\n",
      "1            M   151706.379861\n",
      "2            S    87173.668539\n"
     ]
    }
   ],
   "source": [
    "# Average salary by company size\n",
    "query3 = \"\"\"\n",
    "         SELECT company_size, AVG(salary_in_usd) AS average_salary\n",
    "         FROM salaries_df\n",
    "         GROUP BY company_size;\n",
    "         \"\"\"\n",
    "result3 = pysqldf(query3)\n",
    "print(\"\\nAverage salary by company size:\")\n",
    "print(result3)"
   ]
  },
  {
   "cell_type": "code",
   "execution_count": 8,
   "metadata": {},
   "outputs": [
    {
     "name": "stdout",
     "output_type": "stream",
     "text": [
      "\n",
      "Average salary by company location:\n",
      "   company_location  average_salary\n",
      "0                AD    50745.000000\n",
      "1                AE    97500.000000\n",
      "2                AM    50000.000000\n",
      "3                AR    69571.428571\n",
      "4                AS    31684.333333\n",
      "..              ...             ...\n",
      "72               TR    23094.666667\n",
      "73               UA   105600.000000\n",
      "74               US   157602.318167\n",
      "75               VN    63000.000000\n",
      "76               ZA    55786.533333\n",
      "\n",
      "[77 rows x 2 columns]\n"
     ]
    }
   ],
   "source": [
    "# Average salary by company location\n",
    "query4 = \"\"\"\n",
    "         SELECT company_location, AVG(salary_in_usd) AS average_salary\n",
    "         FROM salaries_df\n",
    "         GROUP BY company_location;\n",
    "         \"\"\"\n",
    "result4 = pysqldf(query4)\n",
    "print(\"\\nAverage salary by company location:\")\n",
    "print(result4)"
   ]
  },
  {
   "cell_type": "code",
   "execution_count": 10,
   "metadata": {},
   "outputs": [
    {
     "name": "stdout",
     "output_type": "stream",
     "text": [
      "\n",
      "Salary trends over the years by experience level:\n",
      "    work_year experience_level  average_salary\n",
      "0        2020               EN    69840.666667\n",
      "1        2020               EX   179958.250000\n",
      "2        2020               MI    91870.935484\n",
      "3        2020               SE   138648.894737\n",
      "4        2021               EN    63463.065217\n",
      "5        2021               EX   186128.000000\n",
      "6        2021               MI    86818.390805\n",
      "7        2021               SE   125989.746667\n",
      "8        2022               EN    80018.698276\n",
      "9        2022               EX   188260.292683\n",
      "10       2022               MI   102733.432961\n",
      "11       2022               SE   147982.512753\n",
      "12       2023               EN    91304.915767\n",
      "13       2023               EX   191314.194215\n",
      "14       2023               MI   123821.311772\n",
      "15       2023               SE   165421.026078\n",
      "16       2024               EN    98953.283465\n",
      "17       2024               EX   200403.179245\n",
      "18       2024               MI   138183.838475\n",
      "19       2024               SE   168682.866146\n"
     ]
    }
   ],
   "source": [
    "# 3. Trend Analysis\n",
    "# Salary trends over the years by experience level\n",
    "query6 = \"\"\"\n",
    "         SELECT work_year, experience_level, AVG(salary_in_usd) AS average_salary\n",
    "         FROM salaries_df\n",
    "         GROUP BY work_year, experience_level\n",
    "         ORDER BY work_year ASC, experience_level;\n",
    "         \"\"\"\n",
    "result6 = pysqldf(query6)\n",
    "print(\"\\nSalary trends over the years by experience level:\")\n",
    "print(result6)"
   ]
  },
  {
   "cell_type": "code",
   "execution_count": 11,
   "metadata": {},
   "outputs": [
    {
     "name": "stdout",
     "output_type": "stream",
     "text": [
      "\n",
      "Average salary by remote ratio category:\n",
      "    remote_category  average_salary\n",
      "0      Fully remote   145413.594666\n",
      "1    No remote work   154093.708179\n",
      "2  Partially remote    81840.377593\n"
     ]
    }
   ],
   "source": [
    "# 4. Remote Work Analysis\n",
    "# Average salary by remote ratio category\n",
    "query7 = \"\"\"\n",
    "         SELECT \n",
    "             CASE \n",
    "                 WHEN remote_ratio = 0 THEN 'No remote work'\n",
    "                 WHEN remote_ratio = 100 THEN 'Fully remote'\n",
    "                 ELSE 'Partially remote' \n",
    "             END AS remote_category, \n",
    "             AVG(salary_in_usd) AS average_salary\n",
    "         FROM salaries_df\n",
    "         GROUP BY remote_category;\n",
    "         \"\"\"\n",
    "result7 = pysqldf(query7)\n",
    "print(\"\\nAverage salary by remote ratio category:\")\n",
    "print(result7)"
   ]
  },
  {
   "cell_type": "code",
   "execution_count": 12,
   "metadata": {},
   "outputs": [
    {
     "name": "stdout",
     "output_type": "stream",
     "text": [
      "\n",
      "Comparison of average salaries between company locations:\n",
      "   company_location  average_salary\n",
      "0                AD    50745.000000\n",
      "1                AE    97500.000000\n",
      "2                AM    50000.000000\n",
      "3                AR    69571.428571\n",
      "4                AS    31684.333333\n",
      "..              ...             ...\n",
      "72               TR    23094.666667\n",
      "73               UA   105600.000000\n",
      "74               US   157602.318167\n",
      "75               VN    63000.000000\n",
      "76               ZA    55786.533333\n",
      "\n",
      "[77 rows x 2 columns]\n"
     ]
    }
   ],
   "source": [
    "# 5. Company Analysis\n",
    "# Comparison of average salaries between company locations\n",
    "query8 = \"\"\"\n",
    "         SELECT company_location, AVG(salary_in_usd) AS average_salary\n",
    "         FROM salaries_df\n",
    "         GROUP BY company_location;\n",
    "         \"\"\"\n",
    "result8 = pysqldf(query8)\n",
    "print(\"\\nComparison of average salaries between company locations:\")\n",
    "print(result8)"
   ]
  },
  {
   "cell_type": "code",
   "execution_count": 13,
   "metadata": {},
   "outputs": [
    {
     "name": "stdout",
     "output_type": "stream",
     "text": [
      "\n",
      "Rows with missing salary information:\n",
      "Empty DataFrame\n",
      "Columns: [work_year, experience_level, employment_type, job_title, salary, salary_currency, salary_in_usd, employee_residence, remote_ratio, company_location, company_size]\n",
      "Index: []\n"
     ]
    }
   ],
   "source": [
    "# 6. Data Cleaning\n",
    "# Identify rows with missing salary information\n",
    "query9 = \"\"\"\n",
    "         SELECT *\n",
    "         FROM salaries_df\n",
    "         WHERE salary_in_usd IS NULL OR salary_in_usd = 0;\n",
    "         \"\"\"\n",
    "missing_salary_info = pysqldf(query9)\n",
    "print(\"\\nRows with missing salary information:\")\n",
    "print(missing_salary_info)"
   ]
  },
  {
   "cell_type": "code",
   "execution_count": 14,
   "metadata": {},
   "outputs": [
    {
     "name": "stdout",
     "output_type": "stream",
     "text": [
      "\n",
      "Rows with missing or inconsistent experience levels:\n",
      "      work_year experience_level employment_type  \\\n",
      "0          2024               MI              FT   \n",
      "1          2024               MI              FT   \n",
      "2          2024               MI              FT   \n",
      "3          2024               MI              FT   \n",
      "4          2024               MI              FT   \n",
      "...         ...              ...             ...   \n",
      "4719       2021               MI              FT   \n",
      "4720       2021               MI              FT   \n",
      "4721       2021               MI              FT   \n",
      "4722       2020               EN              FT   \n",
      "4723       2020               EN              CT   \n",
      "\n",
      "                               job_title  salary salary_currency  \\\n",
      "0        Business Intelligence Developer   95413             USD   \n",
      "1        Business Intelligence Developer   70692             USD   \n",
      "2                          Data Engineer   98000             USD   \n",
      "3                          Data Engineer   68300             USD   \n",
      "4              Machine Learning Engineer  223100             USD   \n",
      "...                                  ...     ...             ...   \n",
      "4719  Applied Machine Learning Scientist  423000             USD   \n",
      "4720                       Data Engineer   24000             EUR   \n",
      "4721            Principal Data Scientist  151000             USD   \n",
      "4722                      Data Scientist  105000             USD   \n",
      "4723               Business Data Analyst  100000             USD   \n",
      "\n",
      "      salary_in_usd employee_residence  remote_ratio company_location  \\\n",
      "0             95413                 US           100               US   \n",
      "1             70692                 US           100               US   \n",
      "2             98000                 US             0               US   \n",
      "3             68300                 US             0               US   \n",
      "4            223100                 US           100               US   \n",
      "...             ...                ...           ...              ...   \n",
      "4719         423000                 US            50               US   \n",
      "4720          28369                 MT            50               MT   \n",
      "4721         151000                 US           100               US   \n",
      "4722         105000                 US           100               US   \n",
      "4723         100000                 US           100               US   \n",
      "\n",
      "     company_size  \n",
      "0               M  \n",
      "1               M  \n",
      "2               M  \n",
      "3               M  \n",
      "4               M  \n",
      "...           ...  \n",
      "4719            L  \n",
      "4720            L  \n",
      "4721            L  \n",
      "4722            S  \n",
      "4723            L  \n",
      "\n",
      "[4724 rows x 11 columns]\n"
     ]
    }
   ],
   "source": [
    "# Identify rows with missing or inconsistent experience levels\n",
    "query10 = \"\"\"\n",
    "          SELECT *\n",
    "          FROM salaries_df\n",
    "          WHERE experience_level NOT IN ('SE', 'ME', 'EE', 'NA');\n",
    "          \"\"\"\n",
    "inconsistent_experience_levels = pysqldf(query10)\n",
    "print(\"\\nRows with missing or inconsistent experience levels:\")\n",
    "print(inconsistent_experience_levels)"
   ]
  }
 ],
 "metadata": {
  "kernelspec": {
   "display_name": "Python 3",
   "language": "python",
   "name": "python3"
  },
  "language_info": {
   "codemirror_mode": {
    "name": "ipython",
    "version": 3
   },
   "file_extension": ".py",
   "mimetype": "text/x-python",
   "name": "python",
   "nbconvert_exporter": "python",
   "pygments_lexer": "ipython3",
   "version": "3.11.8"
  }
 },
 "nbformat": 4,
 "nbformat_minor": 2
}
